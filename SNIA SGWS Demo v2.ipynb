{
 "cells": [
  {
   "cell_type": "markdown",
   "metadata": {
    "slideshow": {
     "slide_type": "-"
    }
   },
   "source": [
    "Importing library to able to communicate with Object storage"
   ]
  },
  {
   "cell_type": "code",
   "execution_count": null,
   "metadata": {},
   "outputs": [],
   "source": [
    "import os\n",
    "import boto3\n",
    "import boto3.session"
   ]
  },
  {
   "cell_type": "markdown",
   "metadata": {},
   "source": [
    "Following is to define the connection session with the object storage by specifying the credentials"
   ]
  },
  {
   "cell_type": "code",
   "execution_count": null,
   "metadata": {},
   "outputs": [],
   "source": [
    "session = boto3.session.Session(profile_name=credprofile)\n"
   ]
  },
  {
   "cell_type": "markdown",
   "metadata": {},
   "source": [
    "This is pointing to the IP address (load balanced between multiple datacenter) storage nodes"
   ]
  },
  {
   "cell_type": "code",
   "execution_count": null,
   "metadata": {},
   "outputs": [],
   "source": [
    "endpoint = 'https://<your FQDN of SGWS>:443/'"
   ]
  },
  {
   "cell_type": "markdown",
   "metadata": {},
   "source": [
    "Create a resource service client"
   ]
  },
  {
   "cell_type": "code",
   "execution_count": null,
   "metadata": {},
   "outputs": [],
   "source": [
    "s3 = session.resource(service_name='s3', endpoint_url=endpoint, verify=False)"
   ]
  },
  {
   "cell_type": "markdown",
   "metadata": {},
   "source": [
    "connect to object storage and listing all buckets of this tenant"
   ]
  },
  {
   "cell_type": "code",
   "execution_count": null,
   "metadata": {},
   "outputs": [],
   "source": [
    "for bucket in s3.buckets.all():\n",
    "    print(bucket.name)"
   ]
  },
  {
   "cell_type": "markdown",
   "metadata": {},
   "source": [
    "create a bucket for this demo and list all objects from this bucket"
   ]
  },
  {
   "cell_type": "code",
   "execution_count": null,
   "metadata": {},
   "outputs": [],
   "source": [
    "bucket = s3.Bucket('<new bucket name>').create()"
   ]
  },
  {
   "cell_type": "code",
   "execution_count": null,
   "metadata": {},
   "outputs": [],
   "source": [
    "for bucket in s3.buckets.all():\n",
    "    print(bucket.name)"
   ]
  },
  {
   "cell_type": "code",
   "execution_count": null,
   "metadata": {},
   "outputs": [],
   "source": [
    "for o in s3.Bucket('<new bucket name>').objects.all():\n",
    "    print(\"Key: \" + o.key)\n",
    "    print(\"Size: \" + str(o.size))\n",
    "    print(\"Time: \" + str(o.last_modified))"
   ]
  },
  {
   "cell_type": "markdown",
   "metadata": {},
   "source": [
    "going to upload object to the object storagwe\n",
    "\n",
    "asking the audience to provide meta data info"
   ]
  },
  {
   "cell_type": "code",
   "execution_count": null,
   "metadata": {},
   "outputs": [],
   "source": [
    "objMetadata = {'animal' : 'snow leopard', 'city' : 'liverpool', 'food' : 'durian'}"
   ]
  },
  {
   "cell_type": "code",
   "execution_count": null,
   "metadata": {
    "scrolled": true
   },
   "outputs": [],
   "source": [
    "filename = 'C:\\\\<path to file to be upload>'\n",
    "obj = s3.Object('<new bucket>', '<id in object storage>' )\n",
    "obj.upload_file(filename, ExtraArgs={\"Metadata\": objMetadata})"
   ]
  },
  {
   "cell_type": "markdown",
   "metadata": {},
   "source": [
    "verify that the object was being uploaded to the object storage (check with S3 browser also)"
   ]
  },
  {
   "cell_type": "code",
   "execution_count": null,
   "metadata": {},
   "outputs": [],
   "source": [
    "for o in s3.Bucket('<new bucket>').objects.all():\n",
    "    print(\"Key: \" + o.key)\n",
    "    print(\"Size: \" + str(o.size))\n",
    "    print(\"Time: \" + str(o.last_modified))"
   ]
  },
  {
   "cell_type": "markdown",
   "metadata": {},
   "source": [
    "download the object to local drives, can specify the local name"
   ]
  },
  {
   "cell_type": "code",
   "execution_count": null,
   "metadata": {},
   "outputs": [],
   "source": [
    "s3.Object('<new bucket>', '<id in object storage>').download_file('C:\\\\<path to save downloaded file>')"
   ]
  },
  {
   "cell_type": "markdown",
   "metadata": {},
   "source": [
    "query for metadata of the file from the object storage"
   ]
  },
  {
   "cell_type": "code",
   "execution_count": null,
   "metadata": {},
   "outputs": [],
   "source": [
    "response = s3.Object('<new bucket>', '<id in object storage>').get()\n",
    "data = response['Body'].read()\n",
    "metadata = response['Metadata']\n",
    "print(\"Metadata: %s\" % (metadata))"
   ]
  },
  {
   "cell_type": "markdown",
   "metadata": {},
   "source": [
    "generate an URL of the object that can be distributed to users (come with expiration)"
   ]
  },
  {
   "cell_type": "code",
   "execution_count": null,
   "metadata": {},
   "outputs": [],
   "source": [
    "client = s3.meta.client\n",
    "url = client.generate_presigned_url('get_object', \n",
    "                                    {'Bucket': '<new bucket>', 'Key': '<id in object storage>'},\n",
    "                                    ExpiresIn=3600)\n",
    "print(\"Pre-signed URL: %s\" % (url))"
   ]
  }
 ],
 "metadata": {
  "kernelspec": {
   "display_name": "Python 3",
   "language": "python",
   "name": "python3"
  },
  "language_info": {
   "codemirror_mode": {
    "name": "ipython",
    "version": 3
   },
   "file_extension": ".py",
   "mimetype": "text/x-python",
   "name": "python",
   "nbconvert_exporter": "python",
   "pygments_lexer": "ipython3",
   "version": "3.6.5"
  }
 },
 "nbformat": 4,
 "nbformat_minor": 2
}
